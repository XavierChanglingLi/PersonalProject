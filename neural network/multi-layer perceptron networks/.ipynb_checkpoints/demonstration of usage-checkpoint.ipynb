{
 "cells": [
  {
   "cell_type": "code",
   "execution_count": null,
   "id": "welcome-registration",
   "metadata": {},
   "outputs": [],
   "source": [
    "#import the required libraries \n",
    "import os\n",
    "import random\n",
    "import numpy as np\n",
    "import matplotlib.pyplot as plt\n",
    "# Automatically reload external modules\n",
    "%load_ext autoreload\n",
    "%autoreload 2"
   ]
  },
  {
   "cell_type": "code",
   "execution_count": null,
   "id": "banner-guinea",
   "metadata": {},
   "outputs": [],
   "source": [
    "#import the neural network\n",
    "from mlp import MLP"
   ]
  },
  {
   "cell_type": "code",
   "execution_count": null,
   "id": "weird-emerald",
   "metadata": {},
   "outputs": [],
   "source": [
    "#load your data here"
   ]
  },
  {
   "cell_type": "code",
   "execution_count": null,
   "id": "square-rochester",
   "metadata": {},
   "outputs": [],
   "source": [
    "#create the network\n",
    "network =MLP(num_features, num_hidden_units, num_classes)"
   ]
  },
  {
   "cell_type": "code",
   "execution_count": null,
   "id": "artificial-float",
   "metadata": {},
   "outputs": [],
   "source": [
    "#train the network\n",
    "loss_hist, acc_train, acc_valid = net.fit(test_x, test_y, test_x, test_y, reg=0, print_every=5, lr=0.001, mini_batch_sz=3, n_epochs=20)"
   ]
  },
  {
   "cell_type": "code",
   "execution_count": null,
   "id": "official-education",
   "metadata": {},
   "outputs": [],
   "source": [
    "#to see the change of loss, you can use the following helper function \n",
    "def plot_cross_entropy_loss(loss_history):\n",
    "    plt.plot(loss_history)\n",
    "    plt.xlabel('Training iteration')\n",
    "    plt.ylabel('loss (cross-entropy)')\n",
    "    plt.show()\n",
    "\n",
    "plot_cross_entropy_loss(loss_hist)"
   ]
  },
  {
   "cell_type": "code",
   "execution_count": null,
   "id": "dutch-crossing",
   "metadata": {},
   "outputs": [],
   "source": [
    "#to predict classes \n",
    "predict_class = net.predict(features)"
   ]
  }
 ],
 "metadata": {
  "kernelspec": {
   "display_name": "Python 3",
   "language": "python",
   "name": "python3"
  },
  "language_info": {
   "codemirror_mode": {
    "name": "ipython",
    "version": 3
   },
   "file_extension": ".py",
   "mimetype": "text/x-python",
   "name": "python",
   "nbconvert_exporter": "python",
   "pygments_lexer": "ipython3",
   "version": "3.7.8"
  }
 },
 "nbformat": 4,
 "nbformat_minor": 5
}
