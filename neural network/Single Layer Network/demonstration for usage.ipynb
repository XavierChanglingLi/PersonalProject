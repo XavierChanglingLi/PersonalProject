{
 "cells": [
  {
   "cell_type": "code",
   "execution_count": null,
   "id": "stone-mobile",
   "metadata": {},
   "outputs": [],
   "source": [
    "#load the libraries required for the network \n",
    "import numpy as np\n",
    "import pandas as pd\n",
    "\n",
    "from adaline import Adaline\n",
    "\n",
    "# Turn off scientific notation when printing\n",
    "np.set_printoptions(suppress=True, precision=3)\n",
    "\n",
    "# Automatically reload your external source code\n",
    "%load_ext autoreload\n",
    "%autoreload 2"
   ]
  },
  {
   "cell_type": "code",
   "execution_count": null,
   "id": "light-jacksonville",
   "metadata": {},
   "outputs": [],
   "source": [
    "#load the adalien network\n",
    "net = Adaline()"
   ]
  },
  {
   "cell_type": "code",
   "execution_count": null,
   "id": "urban-dancing",
   "metadata": {},
   "outputs": [],
   "source": [
    "#define your data directory and load data using pandas\n",
    "datadir = ''\n",
    "data = pd.read_csv(datadir,usecols=[,]).values\n",
    "#load the class, the class should be classified as -1 and 1\n",
    "data_class = pd.read_csv(datadir,usecols=[]).values"
   ]
  },
  {
   "cell_type": "code",
   "execution_count": null,
   "id": "alternative-trash",
   "metadata": {},
   "outputs": [],
   "source": [
    "#train the model\n",
    "loss, acc = net.fit(data, data_class)"
   ]
  },
  {
   "cell_type": "code",
   "execution_count": null,
   "id": "accurate-oxford",
   "metadata": {},
   "outputs": [],
   "source": [
    "#predict the class (binary_classification)\n",
    "predict_class = net.predict(features)"
   ]
  },
  {
   "cell_type": "code",
   "execution_count": null,
   "id": "derived-latino",
   "metadata": {},
   "outputs": [],
   "source": [
    "#let's try logistic regression \n",
    "from adaline_logistic import AdalineLogistic\n",
    "net_logistic = AdalineLogistic()"
   ]
  },
  {
   "cell_type": "code",
   "execution_count": null,
   "id": "perceived-charity",
   "metadata": {},
   "outputs": [],
   "source": [
    "#adjust the class to 1 and 0\n",
    "new_data_class = np.where(data_class >= 0, 1, 0)"
   ]
  },
  {
   "cell_type": "code",
   "execution_count": null,
   "id": "informative-green",
   "metadata": {},
   "outputs": [],
   "source": [
    "#train the model\n",
    "loss, acc = net_logistic.fit(data, new_data_class)"
   ]
  },
  {
   "cell_type": "code",
   "execution_count": null,
   "id": "sapphire-sociology",
   "metadata": {},
   "outputs": [],
   "source": [
    "#predict the class (binary_classification)\n",
    "predict_class = net_logistic.predict(features)"
   ]
  },
  {
   "cell_type": "code",
   "execution_count": null,
   "id": "motivated-january",
   "metadata": {},
   "outputs": [],
   "source": [
    "#let's compare the performance with perceptron\n",
    "from adaline import Perceptron\n",
    "perceptron = Perceptron()"
   ]
  },
  {
   "cell_type": "code",
   "execution_count": null,
   "id": "organic-seventh",
   "metadata": {},
   "outputs": [],
   "source": [
    "loss_p, acc_p = perceptron.fit(data, data_class)"
   ]
  },
  {
   "cell_type": "code",
   "execution_count": null,
   "id": "general-solution",
   "metadata": {},
   "outputs": [],
   "source": [
    "predict_class = perceptron.predict(features)"
   ]
  }
 ],
 "metadata": {
  "kernelspec": {
   "display_name": "Python 3",
   "language": "python",
   "name": "python3"
  },
  "language_info": {
   "codemirror_mode": {
    "name": "ipython",
    "version": 3
   },
   "file_extension": ".py",
   "mimetype": "text/x-python",
   "name": "python",
   "nbconvert_exporter": "python",
   "pygments_lexer": "ipython3",
   "version": "3.7.8"
  }
 },
 "nbformat": 4,
 "nbformat_minor": 5
}
