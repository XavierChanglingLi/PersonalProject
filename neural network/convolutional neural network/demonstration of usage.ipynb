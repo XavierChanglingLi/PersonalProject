{
 "cells": [
  {
   "cell_type": "code",
   "execution_count": null,
   "id": "fuzzy-justice",
   "metadata": {},
   "outputs": [],
   "source": [
    "#import the required library\n",
    "import os\n",
    "import random\n",
    "import numpy as np\n",
    "import matplotlib.pyplot as plt\n",
    "np.set_printoptions(suppress=True, precision=7)\n",
    "# Automatically reload your external source code\n",
    "%load_ext autoreload\n",
    "%autoreload 2"
   ]
  },
  {
   "cell_type": "code",
   "execution_count": null,
   "id": "coated-flashing",
   "metadata": {},
   "outputs": [],
   "source": [
    "#load the optimizer and convolutional network \n",
    "from optimizer import *\n",
    "from network import ConvNet4"
   ]
  },
  {
   "cell_type": "code",
   "execution_count": null,
   "id": "devoted-drain",
   "metadata": {},
   "outputs": [],
   "source": [
    "#load your data here"
   ]
  },
  {
   "cell_type": "code",
   "execution_count": null,
   "id": "solved-grass",
   "metadata": {},
   "outputs": [],
   "source": [
    "#let's try Adam optimizer first\n",
    "adam_convNet = ConvNet4(input_shape,wt_scale=1e-2, verbose=False)\n",
    "adam_convNet.compile(\"adam\",lr=1e-2)\n",
    "adam_loss_history, adam_train_acc_history, adam_validation_acc_history=adam_convNet.fit(x_dev, y_dev, x_val, y_val,mini_batch_sz=10, n_epochs =200,acc_freq=10, print_every=10)"
   ]
  },
  {
   "cell_type": "code",
   "execution_count": null,
   "id": "sudden-exhibition",
   "metadata": {},
   "outputs": [],
   "source": [
    "#let's compare it with SGD-M\n",
    "sgdm_convNet = ConvNet4(input_shape,wt_scale=1e-2, verbose=False)\n",
    "sgdm_convNet.compile(\"sgd_momentum\",lr=1e-2)\n",
    "sgdm_loss_history, sgdm_train_acc_history, sgdm_validation_acc_history=sgdm_convNet.fit(x_dev, y_dev, x_val, y_val,mini_batch_sz=10, n_epochs =200,acc_freq=10, print_every=10)"
   ]
  },
  {
   "cell_type": "code",
   "execution_count": null,
   "id": "moral-scholarship",
   "metadata": {},
   "outputs": [],
   "source": [
    "#let's compare with SGD\n",
    "sgd_convNet = ConvNet4(input_shape,wt_scale=1e-2, verbose=False)\n",
    "sgd_convNet.compile(\"sgd\",lr=1e-2)\n",
    "sgd_loss_history, sgd_train_acc_history, sgd_validation_acc_history=sgd_convNet.fit(x_dev, y_dev, x_val, y_val,mini_batch_sz=10, n_epochs =200,acc_freq=10, print_every=10)"
   ]
  },
  {
   "cell_type": "code",
   "execution_count": null,
   "id": "civil-siemens",
   "metadata": {},
   "outputs": [],
   "source": [
    "#you can compare the performance using the following \n",
    "fig, axes = plt.subplots(2,3,figsize=(20,10))\n",
    "\n",
    "acc_iters = np.arange(10,400,10)\n",
    "loss_iters = np.arange(0,400,1)\n",
    "\n",
    "axes[0][0].set_title(\"Adam\")\n",
    "axes[0][1].set_title(\"SGD Momentum\")\n",
    "axes[0][2].set_title(\"SGD\")\n",
    "\n",
    "axes[1][0].set_xlabel(\"Iterations\")\n",
    "axes[1][1].set_xlabel(\"Iterations\")\n",
    "axes[1][2].set_xlabel(\"Iterations\")\n",
    "\n",
    "axes[0][0].set_ylabel(\"Accuracy\")\n",
    "axes[1][0].set_ylabel(\"Loss\")\n",
    "\n",
    "axes[0][0].plot(acc_iters,adam_train_acc_history)\n",
    "axes[0][0].plot(acc_iters,adam_validation_acc_history)\n",
    "axes[0][0].legend((\"Train\",\"Valid\"))\n",
    "axes[1][0].plot(loss_iters,adam_loss_history,c='r')\n",
    "\n",
    "axes[0][1].plot(acc_iters,sgdm_train_acc_history)\n",
    "axes[0][1].plot(acc_iters,sgdm_validation_acc_history)\n",
    "axes[0][1].legend((\"Train\",\"Valid\"))\n",
    "axes[1][1].plot(loss_iters,sgdm_loss_history,c='r')\n",
    "\n",
    "axes[0][2].plot(acc_iters,sgd_train_acc_history)\n",
    "axes[0][2].plot(acc_iters,sgd_validation_acc_history)\n",
    "axes[0][2].legend((\"Train\",\"Valid\"))\n",
    "axes[1][2].plot(loss_iters,sgd_loss_history,c='r')\n",
    "\n",
    "plt.show()"
   ]
  },
  {
   "cell_type": "code",
   "execution_count": null,
   "id": "composed-prediction",
   "metadata": {},
   "outputs": [],
   "source": [
    "#as the normal training might take a long time. To speed up the process, \n",
    "#we can swap out forward/backward convolution and maxpooling for implementations \n",
    "#that use different algorithms (im2col, reshaping) that are compiled to C code\n",
    "!pip3 install cython\n",
    "#on the terminal, compile: python3 setup.py build_ext --inplace\n",
    "from network import ConvNet4Accel"
   ]
  },
  {
   "cell_type": "code",
   "execution_count": null,
   "id": "mexican-china",
   "metadata": {},
   "outputs": [],
   "source": [
    "#let's try the fast version \n",
    "adam_convNet1 = ConvNet4Accel(input_shape,wt_scale=1e-2, reg=1e-3, verbose=False)\n",
    "adam_convNet1.compile(\"adam\",lr=1e-3)\n",
    "adam_loss_history, adam_train_acc_history, adam_validation_acc_history=adam_convNet1.fit(x_train, y_train, x_val, y_val,mini_batch_sz=100, n_epochs =100,acc_freq=50, print_every=100)"
   ]
  }
 ],
 "metadata": {
  "kernelspec": {
   "display_name": "Python 3",
   "language": "python",
   "name": "python3"
  },
  "language_info": {
   "codemirror_mode": {
    "name": "ipython",
    "version": 3
   },
   "file_extension": ".py",
   "mimetype": "text/x-python",
   "name": "python",
   "nbconvert_exporter": "python",
   "pygments_lexer": "ipython3",
   "version": "3.7.8"
  }
 },
 "nbformat": 4,
 "nbformat_minor": 5
}
